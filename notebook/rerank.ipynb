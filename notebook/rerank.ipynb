{
 "cells": [
  {
   "cell_type": "code",
   "execution_count": 12,
   "metadata": {},
   "outputs": [],
   "source": [
    "import openai\n",
    "from openai import OpenAI\n",
    "import os, sys\n",
    "import requests, dotenv\n",
    "from dotenv import load_dotenv\n",
    "\n",
    "from langchain_community.vectorstores import Qdrant\n",
    "from langchain_community.document_loaders import UnstructuredHTMLLoader\n",
    "from langchain_openai import OpenAI, OpenAIEmbeddings\n",
    "from langchain_core.prompts import ChatPromptTemplate, PromptTemplate\n",
    "from langchain_core.runnables import RunnableParallel, RunnablePassthrough\n",
    "from langchain.text_splitter import CharacterTextSplitter\n",
    "from langchain_core.output_parsers import StrOutputParser\n",
    "from langchain_openai import ChatOpenAI\n",
    "\n",
    "from langchain.retrievers import ContextualCompressionRetriever\n",
    "from langchain.retrievers.document_compressors import CohereRerank\n",
    "from langchain_community.llms import Cohere\n",
    "from langchain_community.embeddings import CohereEmbeddings\n",
    "from langchain.retrievers.document_compressors import EmbeddingsFilter\n",
    "\n",
    "load_dotenv()\n",
    "api_key = os.getenv('OPENAI_API_KEY')\n",
    "cohere_api_key = os.getenv('COHERE_API_KEY')\n",
    "# client = OpenAI(api_key=api_key)\n",
    "\n",
    "\n",
    "def setup_chatbot_chain(query: str) -> str:\n",
    "    loader = UnstructuredHTMLLoader('/home/biniyam/TenAcademy/AI-Contract-Lawyer/notebook/imdb_data/21_imdb.com.html')\n",
    "    document = loader.load()\n",
    "\n",
    "    text_splitter = CharacterTextSplitter(chunk_size=512, chunk_overlap=0)\n",
    "    docs = text_splitter.split_documents(documents=document)\n",
    "    \n",
    "    embedding_function = CohereEmbeddings(model=\"embed-english-light-v3.0\")\n",
    "    embedding_filter = EmbeddingsFilter(embeddings=embedding_function, similarity_threshold=0.75)\n",
    "    db = Qdrant.from_documents(docs, embedding_function, location=\":memory:\", collection_name=\"imdb_data\")\n",
    "    \n",
    "    retriever = db.as_retriever()\n",
    "    compressor = CohereRerank(cohere_api_key=cohere_api_key)\n",
    "    compression_retriever = ContextualCompressionRetriever(base_compressor=compressor, base_retriever=retriever, type=\"rerank\")\n",
    "    \n",
    "    \n",
    "    \n",
    "    template = \"\"\"You are a my personal private legal contract lawyer who know a lot of stuff about contracts.\n",
    "            You are responsible for assisting the user based on their respective questions about a certain contract\n",
    " \n",
    "    {context}\n",
    "    \n",
    "    Question: {question}\n",
    "    Helpful answer:\"\"\"\n",
    "    \n",
    "    custom_rag_prompt = PromptTemplate.from_template(template)\n",
    "    \n",
    "    # llm = ChatOpenAI(model=\"gpt-3.5-turbo\", temperature=0)\n",
    "    llm = Cohere(temperature=0)\n",
    "\n",
    "    rag_chain = (\n",
    "        {\"context\": compression_retriever, \"question\": RunnablePassthrough()}\n",
    "        | custom_rag_prompt\n",
    "        | llm\n",
    "        | StrOutputParser()\n",
    "    )\n",
    "    \n",
    "    for chunk in rag_chain.stream(query):\n",
    "        print(chunk, end=\"\", flush=True)\n",
    "    \n",
    "    \n",
    "    "
   ]
  },
  {
   "cell_type": "code",
   "execution_count": 13,
   "metadata": {},
   "outputs": [
    {
     "name": "stderr",
     "output_type": "stream",
     "text": [
      "Created a chunk of size 545, which is longer than the specified 512\n",
      "Created a chunk of size 1015, which is longer than the specified 512\n",
      "Created a chunk of size 786, which is longer than the specified 512\n",
      "Created a chunk of size 540, which is longer than the specified 512\n"
     ]
    },
    {
     "name": "stdout",
     "output_type": "stream",
     "text": [
      " The contract is regarding the terms and conditions of using IMDb's website and subscription service. It outlines how disputes relating to the security of user information and privacy are handled, and it states that the laws of the state of Washington govern these terms. "
     ]
    }
   ],
   "source": [
    "setup_chatbot_chain(\"What is the contract talking about?\")"
   ]
  },
  {
   "cell_type": "code",
   "execution_count": null,
   "metadata": {},
   "outputs": [],
   "source": []
  }
 ],
 "metadata": {
  "kernelspec": {
   "display_name": "fooocus-api",
   "language": "python",
   "name": "python3"
  },
  "language_info": {
   "codemirror_mode": {
    "name": "ipython",
    "version": 3
   },
   "file_extension": ".py",
   "mimetype": "text/x-python",
   "name": "python",
   "nbconvert_exporter": "python",
   "pygments_lexer": "ipython3",
   "version": "3.10.13"
  }
 },
 "nbformat": 4,
 "nbformat_minor": 2
}
