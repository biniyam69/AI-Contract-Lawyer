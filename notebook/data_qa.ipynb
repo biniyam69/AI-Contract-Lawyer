{
 "cells": [
  {
   "cell_type": "code",
   "execution_count": 1,
   "metadata": {},
   "outputs": [],
   "source": [
    "import pandas as pd\n",
    "import numpy as np"
   ]
  },
  {
   "cell_type": "code",
   "execution_count": 2,
   "metadata": {},
   "outputs": [],
   "source": [
    "TRAIN_DATA_PATH = '/home/biniyam/TenAcademy/AI-Contract-Lawyer/data/eval_dataset_from_privacy_policies/prepare_policy_data/data/qa/train.json'\n",
    "DEV_DATA_PATH = '/home/biniyam/TenAcademy/AI-Contract-Lawyer/data/eval_dataset_from_privacy_policies/prepare_policy_data/data/qa/dev.json'\n",
    "TEST_DATA_PATH = '/home/biniyam/TenAcademy/AI-Contract-Lawyer/data/eval_dataset_from_privacy_policies/prepare_policy_data/data/qa/test.json'"
   ]
  },
  {
   "cell_type": "code",
   "execution_count": 11,
   "metadata": {},
   "outputs": [
    {
     "data": {
      "text/plain": [
       "'How do they collect information about users?'"
      ]
     },
     "execution_count": 11,
     "metadata": {},
     "output_type": "execute_result"
    }
   ],
   "source": [
    "train_data = pd.DataFrame(pd.read_json(TRAIN_DATA_PATH))\n",
    "train_data['data'][0]['paragraphs'][0]['qas'][0]['question']"
   ]
  },
  {
   "cell_type": "code",
   "execution_count": 12,
   "metadata": {},
   "outputs": [
    {
     "data": {
      "text/plain": [
       "'personal information you supply when you subscribe, order, complete a form or survey, register for one of our Web Sites, enter a contest or provide your email address and'"
      ]
     },
     "execution_count": 12,
     "metadata": {},
     "output_type": "execute_result"
    }
   ],
   "source": [
    "train_data['data'][0]['paragraphs'][0]['qas'][0]['answers'][0]['text']"
   ]
  },
  {
   "cell_type": "code",
   "execution_count": null,
   "metadata": {},
   "outputs": [],
   "source": []
  }
 ],
 "metadata": {
  "kernelspec": {
   "display_name": "fooocus-api",
   "language": "python",
   "name": "python3"
  },
  "language_info": {
   "codemirror_mode": {
    "name": "ipython",
    "version": 3
   },
   "file_extension": ".py",
   "mimetype": "text/x-python",
   "name": "python",
   "nbconvert_exporter": "python",
   "pygments_lexer": "ipython3",
   "version": "3.10.13"
  }
 },
 "nbformat": 4,
 "nbformat_minor": 2
}
